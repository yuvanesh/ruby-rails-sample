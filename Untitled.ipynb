{
  "nbformat": 4,
  "nbformat_minor": 0,
  "metadata": {
    "colab": {
      "name": "Untitled",
      "provenance": [],
      "authorship_tag": "ABX9TyOgM3/cfJJqLf4ODay3cVlu",
      "include_colab_link": true
    },
    "kernelspec": {
      "name": "python3",
      "display_name": "Python 3"
    }
  },
  "cells": [
    {
      "cell_type": "markdown",
      "metadata": {
        "id": "view-in-github",
        "colab_type": "text"
      },
      "source": [
        "<a href=\"https://colab.research.google.com/github/yuvanesh/ruby-rails-sample/blob/master/Untitled.ipynb\" target=\"_parent\"><img src=\"https://colab.research.google.com/assets/colab-badge.svg\" alt=\"Open In Colab\"/></a>"
      ]
    },
    {
      "cell_type": "code",
      "metadata": {
        "id": "OG_qkm4r9081",
        "colab_type": "code",
        "outputId": "1df328db-1542-4b82-ae21-6e9bc7ad6a48",
        "colab": {
          "base_uri": "https://localhost:8080/",
          "height": 204
        }
      },
      "source": [
        ""
      ],
      "execution_count": 0,
      "outputs": [
        {
          "output_type": "stream",
          "text": [
            "\u001b[0m\u001b[01;34m1\u001b[0m/         config.gz    interrupts   kpageflags    schedstat      \u001b[01;33mtimer_list\u001b[0m\n",
            "\u001b[01;34m112\u001b[0m/       consoles     iomem        loadavg       \u001b[30;42mscsi\u001b[0m/          \u001b[01;34mtty\u001b[0m/\n",
            "\u001b[01;34m120\u001b[0m/       cpuinfo      ioports      locks         \u001b[01;36mself\u001b[0m@          uptime\n",
            "\u001b[01;34m148\u001b[0m/       crypto       \u001b[01;34mirq\u001b[0m/         meminfo       slabinfo       version\n",
            "\u001b[01;34m19\u001b[0m/        devices      kallsyms     misc          softirqs       vmallocinfo\n",
            "\u001b[01;34m9\u001b[0m/         diskstats    \u001b[01;33mkcore\u001b[0m        modules       stat           vmstat\n",
            "\u001b[30;42macpi\u001b[0m/      dma          \u001b[01;33mkeys\u001b[0m         \u001b[01;36mmounts\u001b[0m@       swaps          zoneinfo\n",
            "buddyinfo  \u001b[01;34mdriver\u001b[0m/      key-users    mtrr          \u001b[01;34msys\u001b[0m/\n",
            "\u001b[01;34mbus\u001b[0m/       execdomains  kmsg         \u001b[01;36mnet\u001b[0m@          sysrq-trigger\n",
            "cgroups    filesystems  kpagecgroup  pagetypeinfo  \u001b[01;34msysvipc\u001b[0m/\n",
            "cmdline    \u001b[01;34mfs\u001b[0m/          kpagecount   partitions    \u001b[01;36mthread-self\u001b[0m@\n"
          ],
          "name": "stdout"
        }
      ]
    },
    {
      "cell_type": "code",
      "metadata": {
        "id": "8hPJxYwI94bh",
        "colab_type": "code",
        "outputId": "d2554e8f-1bf3-4558-e308-b8b1857aa27d",
        "colab": {
          "base_uri": "https://localhost:8080/",
          "height": 54
        }
      },
      "source": [
        "cat /proc/9/environ"
      ],
      "execution_count": 0,
      "outputs": [
        {
          "output_type": "stream",
          "text": [
            "CUDNN_VERSION=7.6.5.32\u0000LD_LIBRARY_PATH=/usr/local/nvidia/lib:/usr/local/nvidia/lib64\u0000LANG=en_US.UTF-8\u0000HOSTNAME=eeef407b22aa\u0000CLOUDSDK_CONFIG=/content/.config\u0000NVIDIA_VISIBLE_DEVICES=all\u0000DATALAB_SETTINGS_OVERRIDES={\"kernelManagerProxyPort\":6000,\"kernelManagerProxyHost\":\"172.28.0.3\",\"jupyterArgs\":[\"--ip=\\\"172.28.0.2\\\"\"]}\u0000ENV=/root/.bashrc\u0000NCCL_VERSION=2.4.8\u0000TF_FORCE_GPU_ALLOW_GROWTH=true\u0000NO_GCE_CHECK=True\u0000PWD=/\u0000HOME=/root\u0000LAST_FORCED_REBUILD=20200316\u0000DEBIAN_FRONTEND=noninteractive\u0000LIBRARY_PATH=/usr/local/cuda/lib64/stubs\u0000GCE_METADATA_TIMEOUT=0\u0000GLIBCPP_FORCE_NEW=1\u0000TBE_CREDS_ADDR=172.28.0.1:8008\u0000SHELL=/bin/bash\u0000GCS_READ_CACHE_BLOCK_SIZE_MB=16\u0000PYTHONWARNINGS=ignore:::pip._internal.cli.base_command\u0000CUDA_PKG_VERSION=10-1=10.1.243-1\u0000CUDA_VERSION=10.1.243\u0000NVIDIA_DRIVER_CAPABILITIES=compute,utility\u0000SHLVL=1\u0000PYTHONPATH=/env/python\u0000NVIDIA_REQUIRE_CUDA=cuda>=10.1 brand=tesla,driver>=384,driver<385 brand=tesla,driver>=396,driver<397 brand=tesla,driver>=410,driver<411\u0000COLAB_GPU=0\u0000GLIBCXX_FORCE_NEW=1\u0000PATH=/usr/local/nvidia/bin:/usr/local/cuda/bin:/usr/local/sbin:/usr/local/bin:/usr/sbin:/usr/bin:/sbin:/bin:/tools/node/bin:/tools/google-cloud-sdk/bin:/opt/bin\u0000LD_PRELOAD=/usr/lib/x86_64-linux-gnu/libtcmalloc.so.4\u0000_=/tools/node/bin/node\u0000OLDPWD=/\u0000"
          ],
          "name": "stdout"
        }
      ]
    },
    {
      "cell_type": "code",
      "metadata": {
        "id": "nXXWQFYqAZ9u",
        "colab_type": "code",
        "outputId": "7777c321-5028-43b4-aa0c-af18b3621426",
        "colab": {
          "base_uri": "https://localhost:8080/",
          "height": 34
        }
      },
      "source": [
        "ls /content/.config"
      ],
      "execution_count": 0,
      "outputs": [
        {
          "output_type": "stream",
          "text": [
            "active_config  config_sentinel  \u001b[0m\u001b[01;34mconfigurations\u001b[0m/  gce  \u001b[01;34mlogs\u001b[0m/\n"
          ],
          "name": "stdout"
        }
      ]
    },
    {
      "cell_type": "code",
      "metadata": {
        "id": "S2dsx0Y8AoPD",
        "colab_type": "code",
        "outputId": "8e6acfd5-03bd-4c7e-dbe0-79f720ccdeee",
        "colab": {
          "base_uri": "https://localhost:8080/",
          "height": 54
        }
      },
      "source": [
        "cat /proc/self/environ"
      ],
      "execution_count": 0,
      "outputs": [
        {
          "output_type": "stream",
          "text": [
            "CUDNN_VERSION=7.6.5.32\u0000LD_LIBRARY_PATH=/usr/local/nvidia/lib:/usr/local/nvidia/lib64\u0000ENABLE_TF_VERSION_ON_ERROR=1\u0000_=/bin/cat\u0000LANG=en_US.UTF-8\u0000HOSTNAME=eeef407b22aa\u0000OLDPWD=/\u0000CLOUDSDK_CONFIG=/content/.config\u0000NVIDIA_VISIBLE_DEVICES=all\u0000DATALAB_SETTINGS_OVERRIDES={\"kernelManagerProxyPort\":6000,\"kernelManagerProxyHost\":\"172.28.0.3\",\"jupyterArgs\":[\"--ip=\\\"172.28.0.2\\\"\"]}\u0000ENV=/root/.bashrc\u0000PAGER=cat\u0000NCCL_VERSION=2.4.8\u0000TF_FORCE_GPU_ALLOW_GROWTH=true\u0000JPY_PARENT_PID=19\u0000NO_GCE_CHECK=True\u0000PWD=/content\u0000HOME=/root\u0000LAST_FORCED_REBUILD=20200316\u0000CLICOLOR=1\u0000DEBIAN_FRONTEND=noninteractive\u0000LIBRARY_PATH=/usr/local/cuda/lib64/stubs\u0000GCE_METADATA_TIMEOUT=0\u0000GLIBCPP_FORCE_NEW=1\u0000TBE_CREDS_ADDR=172.28.0.1:8008\u0000TERM=xterm-color\u0000SHELL=/bin/bash\u0000GCS_READ_CACHE_BLOCK_SIZE_MB=16\u0000PYTHONWARNINGS=ignore:::pip._internal.cli.base_command\u0000MPLBACKEND=module://ipykernel.pylab.backend_inline\u0000CUDA_PKG_VERSION=10-1=10.1.243-1\u0000CUDA_VERSION=10.1.243\u0000NVIDIA_DRIVER_CAPABILITIES=compute,utility\u0000SHLVL=2\u0000PYTHONPATH=/env/python\u0000NVIDIA_REQUIRE_CUDA=cuda>=10.1 brand=tesla,driver>=384,driver<385 brand=tesla,driver>=396,driver<397 brand=tesla,driver>=410,driver<411\u0000COLAB_GPU=0\u0000GLIBCXX_FORCE_NEW=1\u0000PATH=/usr/local/nvidia/bin:/usr/local/cuda/bin:/usr/local/sbin:/usr/local/bin:/usr/sbin:/usr/bin:/sbin:/bin:/tools/node/bin:/tools/google-cloud-sdk/bin:/opt/bin\u0000LD_PRELOAD=/usr/lib/x86_64-linux-gnu/libtcmalloc.so.4\u0000GIT_PAGER=cat\u0000"
          ],
          "name": "stdout"
        }
      ]
    },
    {
      "cell_type": "code",
      "metadata": {
        "id": "BhA2E_f1CHl4",
        "colab_type": "code",
        "outputId": "49e42101-3876-4009-d7d6-9c9b4e2b7cdc",
        "colab": {
          "base_uri": "https://localhost:8080/",
          "height": 255
        }
      },
      "source": [
        "cat /proc/cgroups"
      ],
      "execution_count": 0,
      "outputs": [
        {
          "output_type": "stream",
          "text": [
            "#subsys_name\thierarchy\tnum_cgroups\tenabled\n",
            "cpuset\t11\t5\t1\n",
            "cpu\t10\t88\t1\n",
            "cpuacct\t10\t88\t1\n",
            "blkio\t7\t88\t1\n",
            "memory\t3\t131\t1\n",
            "devices\t8\t82\t1\n",
            "freezer\t6\t5\t1\n",
            "net_cls\t9\t5\t1\n",
            "perf_event\t4\t5\t1\n",
            "net_prio\t9\t5\t1\n",
            "hugetlb\t2\t5\t1\n",
            "pids\t5\t88\t1\n",
            "rdma\t12\t1\t1\n"
          ],
          "name": "stdout"
        }
      ]
    },
    {
      "cell_type": "code",
      "metadata": {
        "id": "P3b8dNVWD_k3",
        "colab_type": "code",
        "outputId": "7040bf1d-b8de-4e54-d882-9589fce6fca9",
        "colab": {
          "base_uri": "https://localhost:8080/",
          "height": 187
        }
      },
      "source": [
        "cat /proc/1/"
      ],
      "execution_count": 0,
      "outputs": [
        {
          "output_type": "stream",
          "text": [
            "\u001b[0m\u001b[01;34mattr\u001b[0m/              environ     mem            pagemap       stat\n",
            "audit_containerid  \u001b[01;36mexe\u001b[0m@        mountinfo      personality   statm\n",
            "auxv               \u001b[01;34mfd\u001b[0m/         mounts         projid_map    status\n",
            "cgroup             \u001b[01;34mfdinfo\u001b[0m/     mountstats     \u001b[01;36mroot\u001b[0m@         syscall\n",
            "clear_refs         gid_map     \u001b[01;34mnet\u001b[0m/           schedstat     \u001b[01;34mtask\u001b[0m/\n",
            "cmdline            io          \u001b[01;34mns\u001b[0m/            sessionid     timers\n",
            "comm               limits      numa_maps      setgroups     timerslack_ns\n",
            "coredump_filter    loginuid    oom_adj        smaps         totmaps\n",
            "cpuset             \u001b[01;34mmap_files\u001b[0m/  oom_score      smaps_rollup  uid_map\n",
            "\u001b[01;36mcwd\u001b[0m@               maps        oom_score_adj  stack         wchan\n"
          ],
          "name": "stdout"
        }
      ]
    },
    {
      "cell_type": "code",
      "metadata": {
        "id": "RPeNG6ZEENw9",
        "colab_type": "code",
        "outputId": "f334fecf-c3b5-4812-f84c-dea02854a688",
        "colab": {
          "base_uri": "https://localhost:8080/",
          "height": 221
        }
      },
      "source": [
        "cat /proc/1/cgroup"
      ],
      "execution_count": 0,
      "outputs": [
        {
          "output_type": "stream",
          "text": [
            "12:rdma:/\n",
            "11:cpuset:/docker/eeef407b22aa001cf46e049c8cb63d8698f44b6a72a609eeec1ceb90830d10ac\n",
            "10:cpu,cpuacct:/docker/eeef407b22aa001cf46e049c8cb63d8698f44b6a72a609eeec1ceb90830d10ac\n",
            "9:net_cls,net_prio:/docker/eeef407b22aa001cf46e049c8cb63d8698f44b6a72a609eeec1ceb90830d10ac\n",
            "8:devices:/docker/eeef407b22aa001cf46e049c8cb63d8698f44b6a72a609eeec1ceb90830d10ac\n",
            "7:blkio:/docker/eeef407b22aa001cf46e049c8cb63d8698f44b6a72a609eeec1ceb90830d10ac\n",
            "6:freezer:/docker/eeef407b22aa001cf46e049c8cb63d8698f44b6a72a609eeec1ceb90830d10ac\n",
            "5:pids:/docker/eeef407b22aa001cf46e049c8cb63d8698f44b6a72a609eeec1ceb90830d10ac\n",
            "4:perf_event:/docker/eeef407b22aa001cf46e049c8cb63d8698f44b6a72a609eeec1ceb90830d10ac\n",
            "3:memory:/docker/eeef407b22aa001cf46e049c8cb63d8698f44b6a72a609eeec1ceb90830d10ac\n",
            "2:hugetlb:/docker/eeef407b22aa001cf46e049c8cb63d8698f44b6a72a609eeec1ceb90830d10ac\n",
            "1:name=systemd:/docker/eeef407b22aa001cf46e049c8cb63d8698f44b6a72a609eeec1ceb90830d10ac\n"
          ],
          "name": "stdout"
        }
      ]
    },
    {
      "cell_type": "code",
      "metadata": {
        "id": "7WLcLL_fEyku",
        "colab_type": "code",
        "outputId": "7b9c2d5e-6b6f-4e6c-af8b-502cb32ddc03",
        "colab": {
          "base_uri": "https://localhost:8080/",
          "height": 51
        }
      },
      "source": [
        "import os;\n",
        "\n",
        "file = os.system(\"ls\");\n",
        "print(file)"
      ],
      "execution_count": 0,
      "outputs": [
        {
          "output_type": "stream",
          "text": [
            "ERROR! Session/line number was not unique in database. History logging moved to new session 69\n",
            "0\n"
          ],
          "name": "stdout"
        }
      ]
    },
    {
      "cell_type": "code",
      "metadata": {
        "id": "3uldCZinFNPk",
        "colab_type": "code",
        "outputId": "22aacc67-9217-4118-de02-fa1c7b4cf76f",
        "colab": {
          "base_uri": "https://localhost:8080/",
          "height": 34
        }
      },
      "source": [
        "ls -lh /run/initctl"
      ],
      "execution_count": 0,
      "outputs": [
        {
          "output_type": "stream",
          "text": [
            "lrwxrwxrwx 1 root root 25 Mar 18 16:16 \u001b[0m\u001b[01;36m/run/initctl\u001b[0m -> /run/systemd/initctl/fifo\n"
          ],
          "name": "stdout"
        }
      ]
    },
    {
      "cell_type": "code",
      "metadata": {
        "id": "XEjfTCbsFhu4",
        "colab_type": "code",
        "outputId": "6e91e742-b775-49bc-be4a-93697cfcf8f2",
        "colab": {
          "base_uri": "https://localhost:8080/",
          "height": 34
        }
      },
      "source": [
        "cat /run/initctl"
      ],
      "execution_count": 0,
      "outputs": [
        {
          "output_type": "stream",
          "text": [
            "cat: /run/initctl: No such file or directory\n"
          ],
          "name": "stdout"
        }
      ]
    },
    {
      "cell_type": "code",
      "metadata": {
        "id": "BxbvVpqyWAy-",
        "colab_type": "code",
        "outputId": "2f7a058a-b0db-4410-fb04-d3bacd384495",
        "colab": {
          "base_uri": "https://localhost:8080/",
          "height": 34
        }
      },
      "source": [
        "import os;\n",
        "os.system('strace -s 2048 -p 112  2>&1  > /tmp/tmp.txt')"
      ],
      "execution_count": 106,
      "outputs": [
        {
          "output_type": "execute_result",
          "data": {
            "text/plain": [
              "32512"
            ]
          },
          "metadata": {
            "tags": []
          },
          "execution_count": 106
        }
      ]
    },
    {
      "cell_type": "code",
      "metadata": {
        "id": "UPL6NEXoZ9I8",
        "colab_type": "code",
        "colab": {
          "base_uri": "https://localhost:8080/",
          "height": 34
        },
        "outputId": "f0396dc3-0f08-42e9-eb5d-e32affa42f0e"
      },
      "source": [
        "import os;\n",
        "os.system('ps -aex > /tmp/tmp.txt')"
      ],
      "execution_count": 108,
      "outputs": [
        {
          "output_type": "execute_result",
          "data": {
            "text/plain": [
              "0"
            ]
          },
          "metadata": {
            "tags": []
          },
          "execution_count": 108
        }
      ]
    },
    {
      "cell_type": "code",
      "metadata": {
        "id": "-eoasNReWjle",
        "colab_type": "code",
        "colab": {
          "base_uri": "https://localhost:8080/",
          "height": 173
        },
        "outputId": "d935e3dd-da7c-404f-c075-8d4ff5a69b96"
      },
      "source": [
        "cat /tmp/tmp.txt"
      ],
      "execution_count": 109,
      "outputs": [
        {
          "output_type": "stream",
          "text": [
            "    PID TTY      STAT   TIME COMMAND\n",
            "      1 ?        Ss     0:00 /bin/bash -e /datalab/run.sh PATH=/usr/local/nvidia/bin:/usr/local/cuda/bin:/usr/local/sbin:/usr/local/bin:/usr/sbin:/usr/bin:/sbin:/bin:/tools/node/bin:/tools/google-cloud-sdk/bin:/opt/bin HOSTNAME=eeef407b22aa PYTHONWARNINGS=ignore:::pip._internal.cli.base_command NO_GCE_CHECK=True TBE_CREDS_ADDR=172.28.0.1:8008 GCS_READ_CACHE_BLOCK_SIZE_MB=16 GCE_METADATA_TIMEOUT=0 DATALAB_SETTINGS_OVERRIDES={\"kernelManagerProxyPort\":6000,\"kernelManagerProxyHost\":\"172.28.0.3\",\"jupyterArgs\":[\"--ip=\\\"172.28.0.2\\\"\"]} COLAB_GPU=0 CUDA_VERSION=10.1.243 CUDA_PKG_VERSION=10-1=10.1.243-1 LD_LIBRARY_PATH=/usr/local/nvidia/lib:/usr/local/nvidia/lib64 NVIDIA_VISIBLE_DEVICES=all NVIDIA_DRIVER_CAPABILITIES=compute,utility NVIDIA_REQUIRE_CUDA=cuda>=10.1 brand=tesla,driver>=384,driver<385 brand=tesla,driver>=396,driver<397 brand=tesla,driver>=410,driver<411 NCCL_VERSION=2.4.8 LIBRARY_PATH=/usr/local/cuda/lib64/stubs CUDNN_VERSION=7.6.5.32 PYTHONPATH=/env/python TF_FORCE_GPU_ALLOW_GROWTH=true CLOUDSDK_CONFIG=/content/.config DEBIAN_FRONTEND=noninteractive LANG=en_US.UTF-8 LAST_FORCED_REBUILD=20200316 ENV=/root/.bashrc SHELL=/bin/bash LD_PRELOAD=/usr/lib/x86_64-linux-gnu/libtcmalloc.so.4 HOME=/root\n",
            "      9 ?        Sl     0:05 /tools/node/bin/node /datalab/web/app.js CUDNN_VERSION=7.6.5.32 LD_LIBRARY_PATH=/usr/local/nvidia/lib:/usr/local/nvidia/lib64 LANG=en_US.UTF-8 HOSTNAME=eeef407b22aa CLOUDSDK_CONFIG=/content/.config NVIDIA_VISIBLE_DEVICES=all DATALAB_SETTINGS_OVERRIDES={\"kernelManagerProxyPort\":6000,\"kernelManagerProxyHost\":\"172.28.0.3\",\"jupyterArgs\":[\"--ip=\\\"172.28.0.2\\\"\"]} ENV=/root/.bashrc NCCL_VERSION=2.4.8 TF_FORCE_GPU_ALLOW_GROWTH=true NO_GCE_CHECK=True PWD=/ HOME=/root LAST_FORCED_REBUILD=20200316 DEBIAN_FRONTEND=noninteractive LIBRARY_PATH=/usr/local/cuda/lib64/stubs GCE_METADATA_TIMEOUT=0 GLIBCPP_FORCE_NEW=1 TBE_CREDS_ADDR=172.28.0.1:8008 SHELL=/bin/bash GCS_READ_CACHE_BLOCK_SIZE_MB=16 PYTHONWARNINGS=ignore:::pip._internal.cli.base_command CUDA_PKG_VERSION=10-1=10.1.243-1 CUDA_VERSION=10.1.243 NVIDIA_DRIVER_CAPABILITIES=compute,utility SHLVL=1 PYTHONPATH=/env/python NVIDIA_REQUIRE_CUDA=cuda>=10.1 brand=tesla,driver>=384,driver<385 brand=tesla,driver>=396,driver<397 brand=tesla,driver>=410,driver<411 COLAB_GPU=0 GLIBCXX_FORCE_NEW=1 PATH=/usr/local/nvidia/bin:/usr/local/cuda/bin:/usr/local/sbin:/usr/local/bin:/usr/sbin:/usr/bin:/sbin:/bin:/tools/node/bin:/tools/google-cloud-sdk/bin:/opt/bin LD_PRELOAD=/usr/lib/x86_64-linux-gnu/libtcmalloc.so.4 _=/tools/node/bin/node OLDPWD=/\n",
            "     19 ?        Sl     0:09 /usr/bin/python2 /usr/local/bin/jupyter-notebook --ip=\"172.28.0.2\" --port=9000 --FileContentsManager.root_dir=\"/\" --MappingKernelManager.root_dir=\"/content\" CUDNN_VERSION=7.6.5.32 LD_LIBRARY_PATH=/usr/local/nvidia/lib:/usr/local/nvidia/lib64 LANG=en_US.UTF-8 HOSTNAME=eeef407b22aa CLOUDSDK_CONFIG=/content/.config NVIDIA_VISIBLE_DEVICES=all DATALAB_SETTINGS_OVERRIDES={\"kernelManagerProxyPort\":6000,\"kernelManagerProxyHost\":\"172.28.0.3\",\"jupyterArgs\":[\"--ip=\\\"172.28.0.2\\\"\"]} ENV=/root/.bashrc NCCL_VERSION=2.4.8 TF_FORCE_GPU_ALLOW_GROWTH=true NO_GCE_CHECK=True PWD=/ HOME=/root LAST_FORCED_REBUILD=20200316 DEBIAN_FRONTEND=noninteractive LIBRARY_PATH=/usr/local/cuda/lib64/stubs GCE_METADATA_TIMEOUT=0 GLIBCPP_FORCE_NEW=1 TBE_CREDS_ADDR=172.28.0.1:8008 SHELL=/bin/bash GCS_READ_CACHE_BLOCK_SIZE_MB=16 PYTHONWARNINGS=ignore:::pip._internal.cli.base_command CUDA_PKG_VERSION=10-1=10.1.243-1 CUDA_VERSION=10.1.243 NVIDIA_DRIVER_CAPABILITIES=compute,utility SHLVL=1 PYTHONPATH=/env/python NVIDIA_REQUIRE_CUDA=cuda>=10.1 brand=tesla,driver>=384,driver<385 brand=tesla,driver>=396,driver<397 brand=tesla,driver>=410,driver<411 COLAB_GPU=0 GLIBCXX_FORCE_NEW=1 PATH=/usr/local/nvidia/bin:/usr/local/cuda/bin:/usr/local/sbin:/usr/local/bin:/usr/sbin:/usr/bin:/sbin:/bin:/tools/node/bin:/tools/google-cloud-sdk/bin:/opt/bin LD_PRELOAD=/usr/lib/x86_64-linux-gnu/libtcmalloc.so.4 _=/tools/node/bin/node OLDPWD=/\n",
            "    112 ?        Ss     0:00 tail -n +0 -F /root/.config/Google/DriveFS/Logs/drive_fs.txt CUDNN_VERSION=7.6.5.32 LD_LIBRARY_PATH=/usr/local/nvidia/lib:/usr/local/nvidia/lib64 LANG=en_US.UTF-8 HOSTNAME=eeef407b22aa CLOUDSDK_CONFIG=/content/.config NVIDIA_VISIBLE_DEVICES=all DATALAB_SETTINGS_OVERRIDES={\"kernelManagerProxyPort\":6000,\"kernelManagerProxyHost\":\"172.28.0.3\",\"jupyterArgs\":[\"--ip=\\\"172.28.0.2\\\"\"]} ENV=/root/.bashrc NCCL_VERSION=2.4.8 TF_FORCE_GPU_ALLOW_GROWTH=true NO_GCE_CHECK=True PWD=/ HOME=/root LAST_FORCED_REBUILD=20200316 DEBIAN_FRONTEND=noninteractive LIBRARY_PATH=/usr/local/cuda/lib64/stubs GCE_METADATA_TIMEOUT=0 GLIBCPP_FORCE_NEW=1 TBE_CREDS_ADDR=172.28.0.1:8008 SHELL=/bin/bash GCS_READ_CACHE_BLOCK_SIZE_MB=16 PYTHONWARNINGS=ignore:::pip._internal.cli.base_command CUDA_PKG_VERSION=10-1=10.1.243-1 CUDA_VERSION=10.1.243 NVIDIA_DRIVER_CAPABILITIES=compute,utility SHLVL=1 PYTHONPATH=/env/python NVIDIA_REQUIRE_CUDA=cuda>=10.1 brand=tesla,driver>=384,driver<385 brand=tesla,driver>=396,driver<397 brand=tesla,driver>=410,driver<411 COLAB_GPU=0 GLIBCXX_FORCE_NEW=1 PATH=/usr/local/nvidia/bin:/usr/local/cuda/bin:/usr/local/sbin:/usr/local/bin:/usr/sbin:/usr/bin:/sbin:/bin:/tools/node/bin:/tools/google-cloud-sdk/bin:/opt/bin LD_PRELOAD=/usr/lib/x86_64-linux-gnu/libtcmalloc.so.4 _=/usr/bin/tail\n",
            "    120 ?        Ssl    0:10 /usr/bin/python3 -m ipykernel_launcher -f /root/.local/share/jupyter/runtime/kernel-cbb5f72d-44f2-4ab0-aef4-aef768fbfbd7.json ENV=/root/.bashrc GCS_READ_CACHE_BLOCK_SIZE_MB=16 CLOUDSDK_CONFIG=/content/.config CUDA_VERSION=10.1.243 PATH=/usr/local/nvidia/bin:/usr/local/cuda/bin:/usr/local/sbin:/usr/local/bin:/usr/sbin:/usr/bin:/sbin:/bin:/tools/node/bin:/tools/google-cloud-sdk/bin:/opt/bin HOME=/root LD_LIBRARY_PATH=/usr/local/nvidia/lib:/usr/local/nvidia/lib64 LANG=en_US.UTF-8 SHELL=/bin/bash LIBRARY_PATH=/usr/local/cuda/lib64/stubs CUDA_PKG_VERSION=10-1=10.1.243-1 SHLVL=1 GCE_METADATA_TIMEOUT=0 NCCL_VERSION=2.4.8 NVIDIA_VISIBLE_DEVICES=all TF_FORCE_GPU_ALLOW_GROWTH=true DEBIAN_FRONTEND=noninteractive CUDNN_VERSION=7.6.5.32 LAST_FORCED_REBUILD=20200316 JPY_PARENT_PID=19 PYTHONPATH=/env/python DATALAB_SETTINGS_OVERRIDES={\"kernelManagerProxyPort\":6000,\"kernelManagerProxyHost\":\"172.28.0.3\",\"jupyterArgs\":[\"--ip=\\\"172.28.0.2\\\"\"]} NO_GCE_CHECK=True GLIBCXX_FORCE_NEW=1 NVIDIA_DRIVER_CAPABILITIES=compute,utility _=/tools/node/bin/node LD_PRELOAD=/usr/lib/x86_64-linux-gnu/libtcmalloc.so.4 NVIDIA_REQUIRE_CUDA=cuda>=10.1 brand=tesla,driver>=384,driver<385 brand=tesla,driver>=396,driver<397 brand=tesla,driver>=410,driver<411 OLDPWD=/ HOSTNAME=eeef407b22aa COLAB_GPU=0 PWD=/ GLIBCPP_FORCE_NEW=1 PYTHONWARNINGS=ignore:::pip._internal.cli.base_command TBE_CREDS_ADDR=172.28.0.1:8008\n",
            "    994 ?        S      0:00 sh -c ps -aex > /tmp/tmp.txt ENV=/root/.bashrc GCS_READ_CACHE_BLOCK_SIZE_MB=16 CLOUDSDK_CONFIG=/content/.config CUDA_VERSION=10.1.243 PATH=/usr/local/nvidia/bin:/usr/local/cuda/bin:/usr/local/sbin:/usr/local/bin:/usr/sbin:/usr/bin:/sbin:/bin:/tools/node/bin:/tools/google-cloud-sdk/bin:/opt/bin HOME=/root LD_LIBRARY_PATH=/usr/local/nvidia/lib:/usr/local/nvidia/lib64 LANG=en_US.UTF-8 SHELL=/bin/bash LIBRARY_PATH=/usr/local/cuda/lib64/stubs CUDA_PKG_VERSION=10-1=10.1.243-1 SHLVL=1 GCE_METADATA_TIMEOUT=0 NCCL_VERSION=2.4.8 NVIDIA_VISIBLE_DEVICES=all TF_FORCE_GPU_ALLOW_GROWTH=true DEBIAN_FRONTEND=noninteractive CUDNN_VERSION=7.6.5.32 LAST_FORCED_REBUILD=20200316 JPY_PARENT_PID=19 PYTHONPATH=/env/python DATALAB_SETTINGS_OVERRIDES={\"kernelManagerProxyPort\":6000,\"kernelManagerProxyHost\":\"172.28.0.3\",\"jupyterArgs\":[\"--ip=\\\"172.28.0.2\\\"\"]} NO_GCE_CHECK=True GLIBCXX_FORCE_NEW=1 NVIDIA_DRIVER_CAPABILITIES=compute,utility _=/tools/node/bin/node LD_PRELOAD=/usr/lib/x86_64-linux-gnu/libtcmalloc.so.4 NVIDIA_REQUIRE_CUDA=cuda>=10.1 brand=tesla,driver>=384,driver<385 brand=tesla,driver>=396,driver<397 brand=tesla,driver>=410,driver<411 OLDPWD=/ HOSTNAME=eeef407b22aa COLAB_GPU=0 PWD=/ GLIBCPP_FORCE_NEW=1 PYTHONWARNINGS=ignore:::pip._internal.cli.base_command TBE_CREDS_ADDR=172.28.0.1:8008 TERM=xterm-color CLICOLOR=1 PAGER=cat GIT_PAGER=cat MPLBACKEND=module://ipykernel.pylab.backend_inline ENABLE_TF_VERSION_ON_ERROR=1\n",
            "    995 ?        R      0:00 ps -aex LIBRARY_PATH=/usr/local/cuda/lib64/stubs PYTHONWARNINGS=ignore:::pip._internal.cli.base_command GCS_READ_CACHE_BLOCK_SIZE_MB=16 COLAB_GPU=0 DATALAB_SETTINGS_OVERRIDES={\"kernelManagerProxyPort\":6000,\"kernelManagerProxyHost\":\"172.28.0.3\",\"jupyterArgs\":[\"--ip=\\\"172.28.0.2\\\"\"]} MPLBACKEND=module://ipykernel.pylab.backend_inline ENABLE_TF_VERSION_ON_ERROR=1 HOSTNAME=eeef407b22aa LD_LIBRARY_PATH=/usr/local/nvidia/lib:/usr/local/nvidia/lib64 SHLVL=1 HOME=/root OLDPWD=/ NO_GCE_CHECK=True GCE_METADATA_TIMEOUT=0 PAGER=cat ENV=/root/.bashrc CUDA_VERSION=10.1.243 LAST_FORCED_REBUILD=20200316 _=/tools/node/bin/node NVIDIA_REQUIRE_CUDA=cuda>=10.1 brand=tesla,driver>=384,driver<385 brand=tesla,driver>=396,driver<397 brand=tesla,driver>=410,driver<411 NVIDIA_DRIVER_CAPABILITIES=compute,utility TERM=xterm-color PATH=/usr/local/nvidia/bin:/usr/local/cuda/bin:/usr/local/sbin:/usr/local/bin:/usr/sbin:/usr/bin:/sbin:/bin:/tools/node/bin:/tools/google-cloud-sdk/bin:/opt/bin CLOUDSDK_CONFIG=/content/.config CUDA_PKG_VERSION=10-1=10.1.243-1 GLIBCPP_FORCE_NEW=1 LANG=en_US.UTF-8 TF_FORCE_GPU_ALLOW_GROWTH=true LD_PRELOAD=/usr/lib/x86_64-linux-gnu/libtcmalloc.so.4 DEBIAN_FRONTEND=noninteractive CUDNN_VERSION=7.6.5.32 TBE_CREDS_ADDR=172.28.0.1:8008 SHELL=/bin/bash GIT_PAGER=cat PWD=/content CLICOLOR=1 JPY_PARENT_PID=19 PYTHONPATH=/env/python NCCL_VERSION=2.4.8 NVIDIA_VISIBLE_DEVICES=all GLIBCXX_FORCE_NEW=1\n"
          ],
          "name": "stdout"
        }
      ]
    },
    {
      "cell_type": "code",
      "metadata": {
        "id": "DCRODa6WaVdu",
        "colab_type": "code",
        "colab": {
          "base_uri": "https://localhost:8080/",
          "height": 85
        },
        "outputId": "cfc1cff4-133b-41d2-8ea6-65269e9ef658"
      },
      "source": [
        "cat /root/.config/configstore/update-notifier-npm.json"
      ],
      "execution_count": 114,
      "outputs": [
        {
          "output_type": "stream",
          "text": [
            "{\n",
            "\t\"optOut\": false,\n",
            "\t\"lastUpdateCheck\": 1585238988196\n",
            "}"
          ],
          "name": "stdout"
        }
      ]
    }
  ]
}